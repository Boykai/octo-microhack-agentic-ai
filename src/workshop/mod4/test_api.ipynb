{
 "cells": [
  {
   "cell_type": "markdown",
   "metadata": {},
   "source": [
    "# Test APIs"
   ]
  },
  {
   "cell_type": "code",
   "execution_count": null,
   "metadata": {},
   "outputs": [],
   "source": [
    "import requests\n",
    "import json\n",
    "\n",
    "# Define the Local API root\n",
    "url = \"http://127.0.0.1:8000/\"\n",
    "\n",
    "# Deployed URL on Azure\n",
    "url = \"https://azureagentapi-app.azurewebsites.net/\"\n",
    "\n",
    "# Reusable function to ask agent\n",
    "def ask_agent(agent_id, user_input):\n",
    "  payload = {\n",
    "      \"agent_id\": agent_id,\n",
    "      \"user_input\": user_input\n",
    "  }\n",
    "  response = requests.post(f\"{url}agents/ask\", json=payload)\n",
    "  return response.json()\n",
    "\n",
    "# Reusable function to ask agent\n",
    "def chat_agent(agent_id, user_input):\n",
    "  payload = {\n",
    "      \"agent_id\": agent_id,\n",
    "      \"user_input\": user_input\n",
    "  }\n",
    "  response = requests.post(f\"{url}agents/chat\", json=payload)\n",
    "  return response.json()"
   ]
  },
  {
   "cell_type": "code",
   "execution_count": null,
   "metadata": {},
   "outputs": [],
   "source": [
    "# Test API root\n",
    "print(f\"Testing {url}\\n\")\n",
    "response = requests.get(url)\n",
    "print(json.dumps(response.json(), indent=4))"
   ]
  },
  {
   "cell_type": "code",
   "execution_count": null,
   "metadata": {},
   "outputs": [],
   "source": [
    "# # Test API to Create Agent\n",
    "# payload = {\n",
    "#     \"agent_name\": \"Test Agent\",\n",
    "#     \"agent_instructions\": \"This is a test agent.\",\n",
    "#     \"agent_model\": \"gpt-4o\",\n",
    "#     \"agent_toolset\": None\n",
    "# }\n",
    "# response = requests.post(f\"{url}agents/create\", json=payload)\n",
    "# print(json.dumps(response.json(), indent=4))"
   ]
  },
  {
   "cell_type": "code",
   "execution_count": null,
   "metadata": {},
   "outputs": [],
   "source": [
    "# Test API to List Agents\n",
    "response = requests.post(f\"{url}agents/list\")\n",
    "print(json.dumps(response.json(), indent=4))"
   ]
  },
  {
   "cell_type": "code",
   "execution_count": null,
   "metadata": {},
   "outputs": [],
   "source": [
    "# Test API to Ask Agent\n",
    "response = ask_agent(\n",
    "  \"asst_gpoxN8h0od10z8Jmn8StSNqB\",\n",
    "  \"Hello, how can you assist me today?\"\n",
    ")\n",
    "print(json.dumps(response, indent=4))"
   ]
  },
  {
   "cell_type": "code",
   "execution_count": null,
   "metadata": {},
   "outputs": [],
   "source": [
    "# Test API to Chat Agent (Placeholder API)\n",
    "response = chat_agent(\n",
    "  \"asst_customer_service\",\n",
    "  \"Hello?\"\n",
    ")\n",
    "print(json.dumps(response, indent=4))"
   ]
  }
 ],
 "metadata": {
  "kernelspec": {
   "display_name": ".venv",
   "language": "python",
   "name": "python3"
  },
  "language_info": {
   "codemirror_mode": {
    "name": "ipython",
    "version": 3
   },
   "file_extension": ".py",
   "mimetype": "text/x-python",
   "name": "python",
   "nbconvert_exporter": "python",
   "pygments_lexer": "ipython3",
   "version": "3.12.9"
  }
 },
 "nbformat": 4,
 "nbformat_minor": 2
}
