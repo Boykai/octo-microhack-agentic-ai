{
 "cells": [
  {
   "cell_type": "markdown",
   "metadata": {},
   "source": [
    "# Azure AI Agent Service\n",
    "\n",
    "* Azure SDK: [azure.ai.projects](https://learn.microsoft.com/en-us/python/api/overview/azure/ai-projects-readme?view=azure-python-preview#agents-preview)\n",
    "* Azure Sample: [Enterprise Demo](https://github.com/Azure-Samples/azure-ai-agent-service-enterprise-demo/tree/main)"
   ]
  },
  {
   "cell_type": "code",
   "execution_count": null,
   "metadata": {},
   "outputs": [],
   "source": [
    "# Import Dependencies\n",
    "import os\n",
    "import datetime\n",
    "from azure.ai.projects import AIProjectClient\n",
    "from azure.identity import DefaultAzureCredential"
   ]
  },
  {
   "cell_type": "markdown",
   "metadata": {},
   "source": [
    "## Reusable Functions"
   ]
  },
  {
   "cell_type": "code",
   "execution_count": null,
   "metadata": {},
   "outputs": [],
   "source": [
    "# Function to Connect Client\n",
    "def connect_client():\n",
    "  try:\n",
    "    return AIProjectClient.from_connection_string(\n",
    "      credential=DefaultAzureCredential(),\n",
    "      conn_str=os.environ[\"PROJECT_CONNECTION_STRING\"]\n",
    "    )\n",
    "  except Exception as e:\n",
    "    print(e)\n",
    "    return None\n",
    "\n",
    "# Function to Create Agent\n",
    "def create_agent(\n",
    "  agent_name = f\"Agent {datetime.datetime.now().strftime(\"%Y%m%d%H%M\")}\",\n",
    "  agent_instructions = \"You are a helpful assistant.\",\n",
    "  agent_model = os.environ[\"MODEL_DEPLOYMENT_NAME\"],\n",
    "  agent_toolset = None,\n",
    "):\n",
    "  try:\n",
    "    project_client = connect_client()\n",
    "    return project_client.agents.create_agent(\n",
    "      name = agent_name,\n",
    "      instructions = agent_instructions,\n",
    "      model = agent_model,\n",
    "      toolset = agent_toolset,\n",
    "    )\n",
    "  except Exception as e:\n",
    "    print(e)\n",
    "    return None\n",
    "\n",
    "# Function to List Agents\n",
    "def list_agents():\n",
    "  try:\n",
    "    project_client = connect_client()\n",
    "    return project_client.agents.list_agents()\n",
    "  except Exception as e:\n",
    "    print(e)\n",
    "    return None\n",
    "\n",
    "# Function to Ask Agent\n",
    "def ask_agent(agent_id, prompt):\n",
    "  # Default AI Response\n",
    "  ai_response = \"I don't know what to say.\"\n",
    "\n",
    "  # Connect Project Client\n",
    "  project_client = connect_client()\n",
    "\n",
    "  # Validate project client\n",
    "  if project_client:\n",
    "    # Create thread for communication\n",
    "    try:\n",
    "      thread = project_client.agents.create_thread()\n",
    "      # print(f\"Created thread, ID: {thread.id}\")\n",
    "    except Exception as e:\n",
    "      print(e)\n",
    "      return None\n",
    "    \n",
    "    # Validate thread\n",
    "    if thread is not None and thread.id is not None:\n",
    "      # Create message to thread\n",
    "      try:\n",
    "        message = project_client.agents.create_message(\n",
    "          thread_id=thread.id,\n",
    "          role=\"user\",\n",
    "          content=prompt,\n",
    "        )\n",
    "        # print(f\"Created message, ID: {message.id}\")\n",
    "      except Exception as e:\n",
    "        print(e)\n",
    "        return None\n",
    "      \n",
    "      # Validate message\n",
    "      if message is not None and message.id is not None:\n",
    "        # Create and process agent run in thread\n",
    "        try:\n",
    "          run = project_client.agents.create_and_process_run(\n",
    "            thread_id=thread.id,\n",
    "            agent_id=agent_id,\n",
    "          )\n",
    "          # print(f\"Run finished with status: {run.status}\")\n",
    "          if run.status == \"failed\":\n",
    "            print(f\"Run failed: {run.last_error}\")\n",
    "            return None\n",
    "        except Exception as e:\n",
    "          print(e)\n",
    "          return None\n",
    "\n",
    "        # Get all messages in thread\n",
    "        try:\n",
    "          messages = project_client.agents.list_messages(thread_id=thread.id)\n",
    "        except Exception as e:\n",
    "          print(e)\n",
    "          return None\n",
    "\n",
    "        # Validate messages\n",
    "        if messages is not None or messages.data is not None:\n",
    "          # Get latest message\n",
    "          try:\n",
    "              latest_content = messages.data[0].content[0]\n",
    "          except (IndexError, AttributeError, TypeError):\n",
    "              latest_content = None\n",
    "\n",
    "          # Handle text messages\n",
    "          if (\n",
    "              latest_content \n",
    "              and latest_content.type == \"text\"\n",
    "              and latest_content.text\n",
    "              and latest_content.text.value\n",
    "          ):\n",
    "              ai_response = latest_content.text.value\n",
    "\n",
    "  return ai_response"
   ]
  },
  {
   "cell_type": "markdown",
   "metadata": {},
   "source": [
    "## Create Agents"
   ]
  },
  {
   "cell_type": "code",
   "execution_count": null,
   "metadata": {},
   "outputs": [],
   "source": [
    "# Create Agent\n",
    "new_agent = create_agent(\n",
    "  agent_name = f\"Test Agent {datetime.datetime.now().strftime(\"%Y%m%d%H%M\")}\",\n",
    "  agent_instructions = \"You are a helpful assistant.\",\n",
    "  agent_model = \"gpt-4o\",\n",
    "  agent_toolset = None,\n",
    ")"
   ]
  },
  {
   "cell_type": "markdown",
   "metadata": {},
   "source": [
    "# List Agents"
   ]
  },
  {
   "cell_type": "code",
   "execution_count": null,
   "metadata": {},
   "outputs": [],
   "source": [
    "# List All Agents\n",
    "agents = list_agents()\n",
    "for agent in agents.data:\n",
    "  print(f\"# {agent.name} ({agent.id})\")\n",
    "  print(f\"Instructions: {agent.instructions}\")\n",
    "  print(f\"Tools: {agent.tools}\\n\")"
   ]
  },
  {
   "cell_type": "markdown",
   "metadata": {},
   "source": [
    "## Ask Agent"
   ]
  },
  {
   "cell_type": "code",
   "execution_count": null,
   "metadata": {},
   "outputs": [],
   "source": [
    "# Ask Agent\n",
    "agent_id = agents.data[0].id\n",
    "agent_response_content = ask_agent(\n",
    "  agent_id,\n",
    "  \"Hello, tell me a unique and funny joke.\"\n",
    ")\n",
    "print(agent_response_content)"
   ]
  },
  {
   "cell_type": "markdown",
   "metadata": {},
   "source": [
    "## Agents with Built-in Tools"
   ]
  },
  {
   "cell_type": "code",
   "execution_count": null,
   "metadata": {},
   "outputs": [],
   "source": [
    "# Agent with Tools\n",
    "from azure.ai.projects.models import ToolSet\n",
    "from azure.ai.projects.models import CodeInterpreterTool\n",
    "\n",
    "# Create Agent with Tools\n",
    "try:\n",
    "  code_interpreter = CodeInterpreterTool()\n",
    "  toolset = ToolSet()\n",
    "  toolset.add(code_interpreter)\n",
    "except Exception as e:\n",
    "  print(e)\n",
    "\n",
    "# Create Agent with Code Toolset\n",
    "agent_coder = create_agent(\n",
    "  agent_name=\"Coder Agent\",\n",
    "  agent_instructions=\"You are a helpful coding agent who knows how to write code.\",\n",
    "  agent_toolset=toolset,\n",
    ")"
   ]
  },
  {
   "cell_type": "code",
   "execution_count": null,
   "metadata": {},
   "outputs": [],
   "source": [
    "# List All Agents\n",
    "agents = list_agents()\n",
    "for agent in agents.data:\n",
    "  print(f\"# {agent.name} ({agent.id}) with {agent.tools}\")"
   ]
  },
  {
   "cell_type": "code",
   "execution_count": null,
   "metadata": {},
   "outputs": [],
   "source": [
    "# Prompt to test math computation\n",
    "prompt = \"What is the square root of 987654321 rounded to 5 decimal places?\"\n",
    "agent_with_tools = \"\" # agents.data[0].id\n",
    "agent_without_tools = \"\" # agents.data[1].id\n",
    "\n",
    "# Ask Agent with Tools\n",
    "agent_response_content = ask_agent(agent_with_tools, prompt)\n",
    "print(f\"### Agent With Tools ###\\n{agent_response_content}\")\n",
    "\n",
    "# Ask Agent without Tools\n",
    "agent_response_content = ask_agent(agent_without_tools, prompt)\n",
    "print(f\"\\n### Agent Without Tools ###\\n{agent_response_content}\")"
   ]
  },
  {
   "cell_type": "code",
   "execution_count": null,
   "metadata": {},
   "outputs": [],
   "source": [
    "# Prompt to test data analysis\n",
    "prompt = \"Can you generate and display a table of 10 random numbers between 1 and 100 and compute their mean and standard deviation?\"\n",
    "agent_with_tools = \"\" # agents.data[0].id\n",
    "agent_without_tools = \"\" # agents.data[1].id\n",
    "\n",
    "# Ask Agent with Tools\n",
    "agent_response_content = ask_agent(agent_with_tools, prompt)\n",
    "print(f\"### Agent With Tools ###\\n{agent_response_content}\")\n",
    "\n",
    "# Ask Agent without Tools\n",
    "agent_response_content = ask_agent(agent_without_tools, prompt)\n",
    "print(f\"\\n### Agent Without Tools ###\\n{agent_response_content}\")"
   ]
  },
  {
   "cell_type": "markdown",
   "metadata": {},
   "source": [
    "## Agent with Custom Tools"
   ]
  },
  {
   "cell_type": "code",
   "execution_count": null,
   "metadata": {},
   "outputs": [],
   "source": [
    "# Agent with Custom Tools\n",
    "from azure.ai.projects.models import FunctionTool, ToolSet\n",
    "from azure.ai.projects.models import CodeInterpreterTool\n",
    "from user_functions import user_functions # user functions which can be found in a user_functions.py file.\n",
    "\n",
    "# Create Agent with Tools\n",
    "try:\n",
    "  functions = FunctionTool(user_functions)\n",
    "  toolset = ToolSet()\n",
    "  toolset.add(functions)\n",
    "  \n",
    "except Exception as e:\n",
    "  print(e)\n",
    "\n",
    "agent_weather = create_agent(\n",
    "  agent_name=\"Weather Agent\",\n",
    "  agent_instructions=\"You are a helpful weather assistant who knows how to write code.\",\n",
    "  agent_toolset=toolset,\n",
    ")"
   ]
  },
  {
   "cell_type": "code",
   "execution_count": null,
   "metadata": {},
   "outputs": [],
   "source": [
    "# List All Agents\n",
    "agents = list_agents()\n",
    "for agent in agents.data:\n",
    "  print(f\"# {agent.name} ({agent.id}) with {agent.tools}\")"
   ]
  },
  {
   "cell_type": "code",
   "execution_count": null,
   "metadata": {},
   "outputs": [],
   "source": [
    "# Ask Agent\n",
    "agent_response_content = ask_agent(\n",
    "  \"\",\n",
    "  \"What is the weather in New York City today?\"\n",
    ")\n",
    "print(agent_response_content)"
   ]
  }
 ],
 "metadata": {
  "kernelspec": {
   "display_name": ".venv",
   "language": "python",
   "name": "python3"
  },
  "language_info": {
   "codemirror_mode": {
    "name": "ipython",
    "version": 3
   },
   "file_extension": ".py",
   "mimetype": "text/x-python",
   "name": "python",
   "nbconvert_exporter": "python",
   "pygments_lexer": "ipython3",
   "version": "3.12.9"
  }
 },
 "nbformat": 4,
 "nbformat_minor": 2
}
